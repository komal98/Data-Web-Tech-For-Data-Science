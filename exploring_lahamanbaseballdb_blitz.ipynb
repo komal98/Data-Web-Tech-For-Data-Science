{
 "cells": [
  {
   "cell_type": "markdown",
   "id": "35f85014-1176-4ce4-b960-cf5b051a68ac",
   "metadata": {},
   "source": [
    "<h1>STA 220 Assignment 1</h1>"
   ]
  },
  {
   "cell_type": "code",
   "execution_count": 1,
   "id": "1c26833c-ad22-46e3-a970-ac7b6f086c5f",
   "metadata": {},
   "outputs": [],
   "source": [
    "import numpy as np\n",
    "import pandas as pd\n",
    "import sqlite3 as sql\n",
    "import numpy as np\n",
    "import geopandas as gpd\n",
    "import matplotlib.pyplot as plt\n",
    "import requests\n",
    "import json\n",
    "import os\n",
    "import ndjson\n",
    "import pandas\n",
    "from datetime import datetime\n",
    "import concurrent.futures\n",
    "from dotenv import load_dotenv"
   ]
  },
  {
   "cell_type": "markdown",
   "id": "0519bb7e-535e-4208-8b55-7a9641076fe2",
   "metadata": {},
   "source": [
    "<h2>Exercise 1</h2>"
   ]
  },
  {
   "cell_type": "code",
   "execution_count": 2,
   "id": "bba68942-1106-404c-8faa-4d88a7c4f4af",
   "metadata": {},
   "outputs": [],
   "source": [
    "db = sql.connect(\"./data/lahmansbaseballdb.sqlite\")"
   ]
  },
  {
   "cell_type": "code",
   "execution_count": 3,
   "id": "38240603-e8a3-40de-a765-35d369aec5b0",
   "metadata": {},
   "outputs": [
    {
     "data": {
      "text/plain": [
       "<sqlite3.Connection at 0x130b4cf40>"
      ]
     },
     "execution_count": 3,
     "metadata": {},
     "output_type": "execute_result"
    }
   ],
   "source": [
    "db"
   ]
  },
  {
   "cell_type": "markdown",
   "id": "e7bd80c8-7615-47be-9e01-40bdf1b68c8a",
   "metadata": {},
   "source": [
    "<h3>(a, i) Which pitcher has the second most home runs allowed in the American League?</h3>"
   ]
  },
  {
   "cell_type": "code",
   "execution_count": 4,
   "id": "3f94ef67-d241-4fbb-9010-dc468cea6ab9",
   "metadata": {},
   "outputs": [],
   "source": [
    "query_second_most_hra = \"\"\"\n",
    "SELECT p.nameFirst, p.nameLast, SUM(pi.HR) as hra\n",
    "FROM Pitching pi\n",
    "JOIN People p ON pi.playerID = p.playerID\n",
    "WHERE pi.lgID = 'AL'\n",
    "GROUP BY pi.playerID\n",
    "ORDER BY hra DESC\n",
    "LIMIT 1 OFFSET 1;\n",
    "\"\"\""
   ]
  },
  {
   "cell_type": "code",
   "execution_count": 5,
   "id": "dbca0e45-2485-4745-a1b9-045670d5375e",
   "metadata": {},
   "outputs": [],
   "source": [
    "second_most_hra = pd.read_sql(query_second_most_hra, db).squeeze()"
   ]
  },
  {
   "cell_type": "code",
   "execution_count": 6,
   "id": "443c299c-cd1c-4621-8f31-3b71d2dc193c",
   "metadata": {},
   "outputs": [
    {
     "name": "stdout",
     "output_type": "stream",
     "text": [
      "Tim Wakefield (401)\n"
     ]
    }
   ],
   "source": [
    "print(second_most_hra['nameFirst'] + \" \" + second_most_hra['nameLast'] + \" (\" + str(second_most_hra[\"hra\"]) + \")\")"
   ]
  },
  {
   "cell_type": "markdown",
   "id": "b4da6c89-95bd-44ab-a531-2c37f91d934d",
   "metadata": {},
   "source": [
    "<b>The pitcher with the second most home runs allowed in American League is Tim Wakefield with the home runs allowed as 401</b>"
   ]
  },
  {
   "cell_type": "markdown",
   "id": "219ab9cd-b133-4b00-b5a6-0d14776d79ee",
   "metadata": {},
   "source": [
    "<h3> (a,ii) Which pitcher has the worst home runs allowed per game ratio?</h3>"
   ]
  },
  {
   "cell_type": "code",
   "execution_count": 7,
   "id": "54577666-8283-4a03-9beb-3704bf9cc091",
   "metadata": {},
   "outputs": [],
   "source": [
    "query_worst_hra_to_game = \"\"\"\n",
    "SELECT pi.playerID, SUM(pi.HR) as hra, SUM(pi.G) as games, SUM(pi.HR) / CAST(SUM(pi.G) AS REAL) \n",
    "as hra_per_game, pe.nameFirst,pe.nameLast FROM \n",
    "pitching AS pi LEFT JOIN people AS pe ON pi.playerID=pe.playerID \n",
    "WHERE lgID='AL' GROUP BY pi.playerID HAVING games>0 ORDER BY hra_per_game DESC;\n",
    "\"\"\""
   ]
  },
  {
   "cell_type": "code",
   "execution_count": 8,
   "id": "f6978a22-b800-4d65-bd11-818d739f9473",
   "metadata": {},
   "outputs": [],
   "source": [
    "worst_hra_to_game = pd.read_sql(query_worst_hra_to_game, db).squeeze().iloc[0]"
   ]
  },
  {
   "cell_type": "code",
   "execution_count": 9,
   "id": "88d7d1b6-d9fb-4950-af54-66dbaabaee71",
   "metadata": {},
   "outputs": [
    {
     "name": "stdout",
     "output_type": "stream",
     "text": [
      "Ryan Snare (3.0)\n"
     ]
    }
   ],
   "source": [
    "print(worst_hra_to_game['nameFirst'] + \" \" + worst_hra_to_game['nameLast'] + \" (\" + str(worst_hra_to_game[\"hra_per_game\"]) + \")\")"
   ]
  },
  {
   "cell_type": "markdown",
   "id": "aeec44e4-a3f2-4fed-912b-42001b6baf88",
   "metadata": {},
   "source": [
    "<b>There were multiple people with the worst home runs allowed per game ratio, choosing the one with index 0</b>"
   ]
  },
  {
   "cell_type": "markdown",
   "id": "4843a206-6589-48ba-a527-c4c12aae2d67",
   "metadata": {},
   "source": [
    "<b>One of the pitcher with the worst home runs allowed per game ratio is Ryan Snare with a ratio of 3.0"
   ]
  },
  {
   "cell_type": "markdown",
   "id": "d44ec04b-84c2-46f4-8358-99428ef59ab3",
   "metadata": {},
   "source": [
    "<h3>(b, i) Amongst all players in the American League that have passed, report their average lifespan in full years.</h3>"
   ]
  },
  {
   "cell_type": "markdown",
   "id": "31573b8e-8e74-4571-a7bd-e155b83f0a1f",
   "metadata": {},
   "source": [
    "For the average lifespan: The query subtracts the birthYear from the deathYear and adjusts for the birth and death month/day. If a person died before their birthday in their death year, it subtracts one year from their age. This is used to calculate the average lifespan. All players have an entry in the Batting table has the record of all professional players."
   ]
  },
  {
   "cell_type": "code",
   "execution_count": 10,
   "id": "82299264-6eb6-4ebe-8fcf-8d4aff4d9566",
   "metadata": {},
   "outputs": [],
   "source": [
    "query_avg_lifespan = \"\"\"\n",
    "SELECT AVG((deathYear - birthYear) + \n",
    "           CASE \n",
    "               WHEN deathMonth < birthMonth THEN -1 \n",
    "               WHEN deathMonth > birthMonth THEN 0 \n",
    "               WHEN deathDay < birthDay THEN -1 \n",
    "               ELSE 0 \n",
    "           END) as avg_lifespan\n",
    "FROM People p\n",
    "JOIN Batting b ON p.playerID = b.playerID\n",
    "WHERE p.deathYear IS NOT NULL AND b.lgID = 'AL';\n",
    "\"\"\""
   ]
  },
  {
   "cell_type": "code",
   "execution_count": 11,
   "id": "3fd43d0d-3815-40ac-8fd0-062384ddd0d2",
   "metadata": {},
   "outputs": [
    {
     "data": {
      "text/plain": [
       "70.69888436525142"
      ]
     },
     "execution_count": 11,
     "metadata": {},
     "output_type": "execute_result"
    }
   ],
   "source": [
    "avg_lifespan = pd.read_sql(query_avg_lifespan, db).squeeze()\n",
    "avg_lifespan"
   ]
  },
  {
   "cell_type": "markdown",
   "id": "a72a5b34-eb37-4c37-9e46-09bfc249ddbf",
   "metadata": {},
   "source": [
    "Rounding off the average lifespan"
   ]
  },
  {
   "cell_type": "code",
   "execution_count": 12,
   "id": "a542a11b-7970-4d55-a729-8e9628e9e55d",
   "metadata": {},
   "outputs": [
    {
     "data": {
      "text/plain": [
       "71"
      ]
     },
     "execution_count": 12,
     "metadata": {},
     "output_type": "execute_result"
    }
   ],
   "source": [
    "round(avg_lifespan)"
   ]
  },
  {
   "cell_type": "markdown",
   "id": "57bbd99e-92d7-4823-abf5-a43bf6154c9b",
   "metadata": {},
   "source": [
    "<b>The average lifespan in full years is 71 years!</b>"
   ]
  },
  {
   "cell_type": "markdown",
   "id": "a02e9b55-1b6b-4832-831c-4cb56873dd83",
   "metadata": {},
   "source": [
    "<h3>(b,ii) Return the six schools with most hall-of-fame alumni.</h3>"
   ]
  },
  {
   "cell_type": "markdown",
   "id": "673c4da2-1db2-45c3-95d1-5f3df7fb4cb5",
   "metadata": {},
   "source": [
    "Referred Readme.txt and Microsoft Copilot to form the correct query."
   ]
  },
  {
   "cell_type": "code",
   "execution_count": 13,
   "id": "2e0ccd55-3a6b-41b2-a49f-cf57a62e9970",
   "metadata": {},
   "outputs": [],
   "source": [
    "query_top_six_schools_hall_of_fame = \"\"\"\n",
    "SELECT s.name_full, COUNT(DISTINCT h.playerID) as num_hof\n",
    "FROM schools s\n",
    "JOIN CollegePlaying cp ON s.schoolID = cp.schoolID\n",
    "JOIN HallOfFame h ON cp.playerID = h.playerID\n",
    "WHERE h.inducted = 'Y'\n",
    "GROUP BY s.schoolID\n",
    "ORDER BY num_hof DESC\n",
    "LIMIT 6;\n",
    "\"\"\""
   ]
  },
  {
   "cell_type": "code",
   "execution_count": 14,
   "id": "acfff41c-73be-41a2-99e8-3ea9d01780af",
   "metadata": {},
   "outputs": [],
   "source": [
    "top_six_schools_hall_of_fame = pd.read_sql(query_top_six_schools_hall_of_fame, db)"
   ]
  },
  {
   "cell_type": "code",
   "execution_count": 15,
   "id": "16c00377-e3f4-4a0e-8def-f4b3f82156dd",
   "metadata": {},
   "outputs": [
    {
     "name": "stdout",
     "output_type": "stream",
     "text": [
      "The six schools with most hall-of-fame alumni are:\n"
     ]
    },
    {
     "data": {
      "text/html": [
       "<div>\n",
       "<style scoped>\n",
       "    .dataframe tbody tr th:only-of-type {\n",
       "        vertical-align: middle;\n",
       "    }\n",
       "\n",
       "    .dataframe tbody tr th {\n",
       "        vertical-align: top;\n",
       "    }\n",
       "\n",
       "    .dataframe thead th {\n",
       "        text-align: right;\n",
       "    }\n",
       "</style>\n",
       "<table border=\"1\" class=\"dataframe\">\n",
       "  <thead>\n",
       "    <tr style=\"text-align: right;\">\n",
       "      <th></th>\n",
       "      <th>name_full</th>\n",
       "      <th>num_hof</th>\n",
       "    </tr>\n",
       "  </thead>\n",
       "  <tbody>\n",
       "    <tr>\n",
       "      <th>0</th>\n",
       "      <td>University of Southern California</td>\n",
       "      <td>3</td>\n",
       "    </tr>\n",
       "    <tr>\n",
       "      <th>1</th>\n",
       "      <td>St. Bonaventure University</td>\n",
       "      <td>2</td>\n",
       "    </tr>\n",
       "    <tr>\n",
       "      <th>2</th>\n",
       "      <td>San Diego State University</td>\n",
       "      <td>2</td>\n",
       "    </tr>\n",
       "    <tr>\n",
       "      <th>3</th>\n",
       "      <td>University of Minnesota</td>\n",
       "      <td>2</td>\n",
       "    </tr>\n",
       "    <tr>\n",
       "      <th>4</th>\n",
       "      <td>University of Michigan</td>\n",
       "      <td>2</td>\n",
       "    </tr>\n",
       "    <tr>\n",
       "      <th>5</th>\n",
       "      <td>Miami-Dade College, North Campus</td>\n",
       "      <td>2</td>\n",
       "    </tr>\n",
       "  </tbody>\n",
       "</table>\n",
       "</div>"
      ],
      "text/plain": [
       "                           name_full  num_hof\n",
       "0  University of Southern California        3\n",
       "1         St. Bonaventure University        2\n",
       "2         San Diego State University        2\n",
       "3            University of Minnesota        2\n",
       "4             University of Michigan        2\n",
       "5   Miami-Dade College, North Campus        2"
      ]
     },
     "execution_count": 15,
     "metadata": {},
     "output_type": "execute_result"
    }
   ],
   "source": [
    "print(\"The six schools with most hall-of-fame alumni are:\")\n",
    "top_six_schools_hall_of_fame"
   ]
  },
  {
   "cell_type": "markdown",
   "id": "c81156e4-0f51-43d6-b044-412c8828e490",
   "metadata": {},
   "source": [
    "<h3> <b>(b,iii)</b> What fraction of managers have not been professional players?</h3>"
   ]
  },
  {
   "cell_type": "markdown",
   "id": "41c78928-7178-4b82-b6f0-15fb65cebda5",
   "metadata": {},
   "source": [
    "Referred Readme.txt and Microsoft Copilot to form the correct query."
   ]
  },
  {
   "cell_type": "markdown",
   "id": "da103577-07e0-4d23-bc93-7da0d2b0a44a",
   "metadata": {},
   "source": [
    "All professional players have an entry in Batting table."
   ]
  },
  {
   "cell_type": "code",
   "execution_count": 16,
   "id": "79533825-0913-4394-8669-8f6db3f4429d",
   "metadata": {},
   "outputs": [],
   "source": [
    "query_managers_not_pro_players = \"\"\"\n",
    "SELECT COUNT(DISTINCT m.playerID) * 1.0 / (SELECT COUNT(DISTINCT playerID) FROM Managers) as fraction_non_players\n",
    "FROM Managers m\n",
    "LEFT JOIN Batting b ON m.playerID = b.playerID\n",
    "WHERE b.playerID IS NULL;\n",
    "\"\"\""
   ]
  },
  {
   "cell_type": "code",
   "execution_count": 17,
   "id": "512edfec-287c-4fa7-beca-c50bc22d19f0",
   "metadata": {},
   "outputs": [
    {
     "name": "stdout",
     "output_type": "stream",
     "text": [
      "Fraction of managers who have not been professional players: 0.17507002801120447\n"
     ]
    }
   ],
   "source": [
    "manager_count = pd.read_sql(query_managers_not_pro_players, db).squeeze()\n",
    "print(f\"Fraction of managers who have not been professional players: {manager_count}\")"
   ]
  },
  {
   "cell_type": "markdown",
   "id": "497698bd-a407-41ff-8f43-247a2dcc966e",
   "metadata": {},
   "source": [
    "<b>The fraction of managers who have not been professional players is 0.17507002801120447</b>"
   ]
  },
  {
   "cell_type": "markdown",
   "id": "58e55dc3-d799-42d1-ac8d-d0bb435363e8",
   "metadata": {},
   "source": [
    "<h3><b>(c)</b> Create a world map with a color gradient corresponding to the log-number of players per country in the data set. Use pandas.read_html to retrieve the ISO codes from wikipedia, and merge those records as good as you can. Match no more than ten countries to their ISOs manually.</h3>"
   ]
  },
  {
   "cell_type": "code",
   "execution_count": 18,
   "id": "c2d17eac-0dae-4ba7-b8fe-c3ec5778e576",
   "metadata": {},
   "outputs": [],
   "source": [
    "table_birthCountry = table = pd.read_sql(\"SELECT birthCountry,COUNT(*) as count from people GROUP BY birthCountry\", db)"
   ]
  },
  {
   "cell_type": "code",
   "execution_count": 22,
   "id": "52906446-980b-476f-ab3a-2995f083832a",
   "metadata": {},
   "outputs": [
    {
     "name": "stdout",
     "output_type": "stream",
     "text": [
      "     ISO 3166[1] name[5]        World Factbook[6] official state name[a]  \\\n",
      "0            Afghanistan             The Islamic Republic of Afghanistan   \n",
      "1          Åland Islands                                           Åland   \n",
      "2                Albania                         The Republic of Albania   \n",
      "3                Algeria     The People's Democratic Republic of Algeria   \n",
      "4         American Samoa                 The Territory of American Samoa   \n",
      "..                   ...                                             ...   \n",
      "266    Wallis and Futuna  The Territory of the Wallis and Futuna Islands   \n",
      "267  Western Sahara [aj]            The Sahrawi Arab Democratic Republic   \n",
      "268                Yemen                           The Republic of Yemen   \n",
      "269               Zambia                          The Republic of Zambia   \n",
      "270             Zimbabwe                        The Republic of Zimbabwe   \n",
      "\n",
      "    Sovereignty [6][7][8] A-2 [5] A-3 [5] Num. [5]  \\\n",
      "0               UN member      AF     AFG      004   \n",
      "1                 Finland      AX     ALA      248   \n",
      "2               UN member      AL     ALB      008   \n",
      "3               UN member      DZ     DZA      012   \n",
      "4           United States      AS     ASM      016   \n",
      "..                    ...     ...     ...      ...   \n",
      "266                France      WF     WLF      876   \n",
      "267         Disputed [ak]      EH     ESH      732   \n",
      "268             UN member      YE     YEM      887   \n",
      "269             UN member      ZM     ZMB      894   \n",
      "270             UN member      ZW     ZWE      716   \n",
      "\n",
      "    ISO 3166-2[3] subdivision codes link TLD [9]  \n",
      "0                          ISO 3166-2:AF     .af  \n",
      "1                          ISO 3166-2:AX     .ax  \n",
      "2                          ISO 3166-2:AL     .al  \n",
      "3                          ISO 3166-2:DZ     .dz  \n",
      "4                          ISO 3166-2:AS     .as  \n",
      "..                                   ...     ...  \n",
      "266                        ISO 3166-2:WF     .wf  \n",
      "267                        ISO 3166-2:EH    [al]  \n",
      "268                        ISO 3166-2:YE     .ye  \n",
      "269                        ISO 3166-2:ZM     .zm  \n",
      "270                        ISO 3166-2:ZW     .zw  \n",
      "\n",
      "[271 rows x 8 columns]\n"
     ]
    }
   ],
   "source": [
    "iso_data = pd.read_html(\"https://en.wikipedia.org/wiki/List_of_ISO_3166_country_codes\", header=1)[0]\n",
    "iso_country = iso_data['ISO 3166[1] name[5]']\n",
    "iso_codes = iso_data['A-3 [5]']"
   ]
  },
  {
   "cell_type": "code",
   "execution_count": null,
   "id": "2a761074-a60f-4f40-a0c5-a22b18452e0e",
   "metadata": {},
   "outputs": [],
   "source": [
    "iso_country"
   ]
  },
  {
   "cell_type": "code",
   "execution_count": null,
   "id": "81fbee3b-2ba4-4787-8874-3556b1114839",
   "metadata": {},
   "outputs": [],
   "source": [
    "iso_codes"
   ]
  },
  {
   "cell_type": "markdown",
   "id": "fbf2799f-c1d1-4798-9615-6078536043c4",
   "metadata": {},
   "source": [
    "Converting iso_country and iso_codes into Dataframe and cleaining it"
   ]
  },
  {
   "cell_type": "code",
   "execution_count": null,
   "id": "42e993e1-3e0c-4b9c-9029-93b6835fbd64",
   "metadata": {},
   "outputs": [],
   "source": [
    "df_country = pd.DataFrame({'ISO Country': iso_country, 'ISO Code': iso_codes})\n",
    "\n",
    "#Removing square brackets and the content inside it\n",
    "df_country['ISO Country'] = df_country['ISO Country'].str.replace(r'\\[.*\\]', '', regex=True)  \n",
    "df_country['ISO Country'] = df_country['ISO Country'].str.replace(r'\\(.*\\)', '', regex=True)\n",
    "df_country['ISO Country'] = df_country['ISO Country'].str.strip() "
   ]
  },
  {
   "cell_type": "markdown",
   "id": "da7b7371-e7fc-4c53-bc6e-cb3e5a8bc1a0",
   "metadata": {},
   "source": [
    "Merging the wikipedia data and the data from the db. Referred to copilot for below code and map creation"
   ]
  },
  {
   "cell_type": "code",
   "execution_count": null,
   "id": "2e3acd37-eaec-4640-bff0-d09b7b62a456",
   "metadata": {},
   "outputs": [],
   "source": [
    "merged_country = pd.merge(table_birthCountry, df_country, how='left', left_on='birthCountry', right_on='ISO Country')"
   ]
  },
  {
   "cell_type": "code",
   "execution_count": null,
   "id": "2d218e4b-38a3-4bd9-91de-09668756ae57",
   "metadata": {},
   "outputs": [],
   "source": [
    "merged_country['log_player_count'] = np.log(merged_country['count'])\n",
    "merged_country.head(57)"
   ]
  },
  {
   "cell_type": "markdown",
   "id": "c7533d43-502c-4561-a996-ffba6b26aad9",
   "metadata": {},
   "source": [
    "Handling nan rows"
   ]
  },
  {
   "cell_type": "code",
   "execution_count": null,
   "id": "7d900416-67fb-4c4d-aada-85b8a3c352be",
   "metadata": {},
   "outputs": [],
   "source": [
    "nan_rows = merged_country[pd.isna(merged_country).any(axis=1)]"
   ]
  },
  {
   "cell_type": "markdown",
   "id": "9e564870-a4e1-41cb-8ff4-daa93d366d57",
   "metadata": {},
   "source": [
    "<b>Mapping unmapped countries manually</b>"
   ]
  },
  {
   "cell_type": "code",
   "execution_count": null,
   "id": "b9825d10-34b0-46fe-ba8b-da87a2935531",
   "metadata": {},
   "outputs": [],
   "source": [
    "merged_country.loc[merged_country['birthCountry'] == 'Curacao', 'ISO Code'] = 'CUW'\n",
    "merged_country.loc[merged_country['birthCountry'] == 'D.R.', 'ISO Code'] = 'DOM'\n",
    "merged_country.loc[merged_country['birthCountry'] == 'Netherlands', 'ISO Code'] = 'NLD'\n",
    "merged_country.loc[merged_country['birthCountry'] == 'Russia', 'ISO Code'] = 'RUS'\n",
    "merged_country.loc[merged_country['birthCountry'] == 'USA', 'ISO Code'] = 'USA'\n",
    "merged_country.loc[merged_country['birthCountry'] == 'United Kingdom', 'ISO Code'] = 'GBR'\n",
    "merged_country.loc[merged_country['birthCountry'] == 'V.I.', 'ISO Code'] = 'VIR'\n",
    "merged_country.loc[merged_country['birthCountry'] == 'P.R.', 'ISO Code'] = 'PRI'\n",
    "merged_country.loc[merged_country['birthCountry'] == 'CAN', 'ISO Code'] = 'CAN'\n",
    "merged_country.loc[merged_country['birthCountry'] == 'Czech Republic', 'ISO Code'] = 'CZE'"
   ]
  },
  {
   "cell_type": "code",
   "execution_count": null,
   "id": "e414147a-5a80-43eb-9f55-1966e46d8482",
   "metadata": {},
   "outputs": [],
   "source": [
    "world_map = gpd.read_file(gpd.datasets.get_path(\"naturalearth_lowres\"))\n",
    "merged_world_map = world_map.merge(merged_country,how='left', left_on='iso_a3', right_on='ISO Code')"
   ]
  },
  {
   "cell_type": "markdown",
   "id": "4f4524a0-fb4e-45b7-b671-f77f198eaab1",
   "metadata": {},
   "source": [
    "<b>WORLD MAP WITH COLOR GRADIENT</b>"
   ]
  },
  {
   "cell_type": "code",
   "execution_count": null,
   "id": "1273ad4a-568b-4ac8-9e7f-42af3d14779c",
   "metadata": {},
   "outputs": [],
   "source": [
    "fig, ax = plt.subplots(1, 1, figsize=(25, 7))\n",
    "merged_world_map.boundary.plot(ax=ax)\n",
    "merged_world_map.plot(column='log_player_count', cmap='gist_heat', linewidth=0.10, ax=ax, edgecolor='0.100', legend=True)\n",
    "\n",
    "plt.title('Country vs Log Number of Players')\n",
    "plt.show()"
   ]
  },
  {
   "cell_type": "markdown",
   "id": "51c92283-6d50-4525-a1c9-7109f7d8d137",
   "metadata": {},
   "source": [
    "Closing db connection"
   ]
  },
  {
   "cell_type": "code",
   "execution_count": null,
   "id": "c359a0c1-d3a6-483c-ac8c-c1d5676425e7",
   "metadata": {},
   "outputs": [],
   "source": [
    "db.close()"
   ]
  },
  {
   "cell_type": "markdown",
   "id": "6d67fa37-d621-4a23-87d5-2911904c063d",
   "metadata": {},
   "source": [
    "<h2>Exercise 2</h2>"
   ]
  },
  {
   "cell_type": "markdown",
   "id": "76a0c18e-7d7e-43d5-8156-1fc901582a6b",
   "metadata": {},
   "source": [
    "<h3> <b>(a)</b> What is the real name of the leader of the blitz leaderboard?</h3>"
   ]
  },
  {
   "cell_type": "markdown",
   "id": "3225a419-2065-4804-a373-11cc2f0dd6ed",
   "metadata": {},
   "source": [
    "Querying the blitz leaderboard and the top player's username."
   ]
  },
  {
   "cell_type": "code",
   "execution_count": null,
   "id": "1cf3a08a-cf4e-4265-91a9-f8d422b0d31b",
   "metadata": {},
   "outputs": [],
   "source": [
    "top_blitz_player = requests.get(\"https://lichess.org/api/player/top/1/blitz\")\n",
    "top_blitz_player.raise_for_status"
   ]
  },
  {
   "cell_type": "code",
   "execution_count": null,
   "id": "12c1d277-67ab-48ea-9763-1938e87c90fd",
   "metadata": {},
   "outputs": [],
   "source": [
    "json_blitz_leader = json.loads(top_blitz_player.text)\n",
    "username = json_blitz_leader['users'][0]['username']\n",
    "print(f'The username of the top blitz player is {username}')"
   ]
  },
  {
   "cell_type": "markdown",
   "id": "f4618ef3-7090-45c3-9182-bacd34cac1c6",
   "metadata": {},
   "source": [
    "Using the username to fetch the user data from lichess"
   ]
  },
  {
   "cell_type": "code",
   "execution_count": null,
   "id": "5ef8d729-3421-49c9-b6f9-09cd4e8fe2f3",
   "metadata": {},
   "outputs": [],
   "source": [
    "user_data = requests.get(\"https://lichess.org/api/user/\" + username)\n",
    "user_data.raise_for_status\n",
    "user_data.text"
   ]
  },
  {
   "cell_type": "code",
   "execution_count": null,
   "id": "d24399bf-0949-4c0f-ac1e-123dd29b7990",
   "metadata": {},
   "outputs": [],
   "source": [
    "json_user_data = json.loads(user_data.text)\n",
    "actual_name = json_user_data['profile']['firstName'] + \" \" + json_user_data['profile']['lastName']\n",
    "print(f'The real name of the leader of the blitz leaderboard is {actual_name}')"
   ]
  },
  {
   "cell_type": "markdown",
   "id": "951dc995-76cd-4632-a7e7-21da45602d31",
   "metadata": {},
   "source": [
    "<b>The real name of the leader of the blitz leaderboard is Vladislav Artemiev</b>"
   ]
  },
  {
   "cell_type": "markdown",
   "id": "562dba86-6960-4301-9c03-9a17fee69042",
   "metadata": {},
   "source": [
    "<h3> <b>(b, i)</b> Get the username of the last player that played a rapid game against user athena-pallada. </h3>"
   ]
  },
  {
   "cell_type": "markdown",
   "id": "6c9869be-a559-428a-88d7-869fd8132461",
   "metadata": {},
   "source": [
    "I have added the Authorization Bearer token (my personal access token) as an environment variable and fetching the environment and the api token"
   ]
  },
  {
   "cell_type": "code",
   "execution_count": null,
   "id": "18d58474-9dd2-44b7-929d-8699fa25d0ca",
   "metadata": {},
   "outputs": [],
   "source": [
    "load_dotenv()"
   ]
  },
  {
   "cell_type": "code",
   "execution_count": null,
   "id": "8a707d53-0004-4a8b-82e8-9cfbf469be15",
   "metadata": {},
   "outputs": [],
   "source": [
    "api_token = os.environ.get('API_TOKEN')"
   ]
  },
  {
   "cell_type": "code",
   "execution_count": null,
   "id": "e32db115-8e53-4bdc-b90b-d1efd2d5e1aa",
   "metadata": {},
   "outputs": [],
   "source": [
    "lichess_export_games_user_url = \"https://lichess.org/api/games/user/athena-pallada\"\n",
    "query_params = {\n",
    "    'perfType' : \"rapid\",\n",
    "     'max' : 1,\n",
    "    'moves' : False,\n",
    "    'sort' : \"dateDesc\"\n",
    "}\n",
    "response_user_game = requests.get(lichess_export_games_user_url, params = query_params, headers={\"Accept\":\"application/x-ndjson\", \"Authorization\": f'Bearer {api_token}'})\n",
    "response_user_game.raise_for_status"
   ]
  },
  {
   "cell_type": "markdown",
   "id": "a14a129e-73fc-4718-8e8f-709c67c8fa0c",
   "metadata": {},
   "source": [
    "Since the response is in ndjson format (streaming the data), using below method to convert it into a json object"
   ]
  },
  {
   "cell_type": "code",
   "execution_count": null,
   "id": "bb56450a-2723-40ec-8043-2a934043bb6d",
   "metadata": {},
   "outputs": [],
   "source": [
    "def parse_ndjson(ndjson):\n",
    "    resp_json = []\n",
    "    for json_obj in ndjson:\n",
    "        if json_obj:\n",
    "            resp_json.append(json.loads(json_obj))\n",
    "    return resp_json"
   ]
  },
  {
   "cell_type": "code",
   "execution_count": null,
   "id": "32a3aa50-47bf-42fb-88f0-bbb807df0ff6",
   "metadata": {},
   "outputs": [],
   "source": [
    "ndjson_user_game = response_user_game.content.decode().split('\\n')\n",
    "json_user_game = parse_ndjson(ndjson_user_game)"
   ]
  },
  {
   "cell_type": "markdown",
   "id": "d14bc9c5-9537-47a3-9e18-46e334b3a871",
   "metadata": {},
   "source": [
    "Converting the json data into Dataframes by using normalization for handling multiple indexed columns and easier access to data"
   ]
  },
  {
   "cell_type": "code",
   "execution_count": null,
   "id": "95d14af2-f7c5-43f8-8385-85710fb7a7e1",
   "metadata": {},
   "outputs": [],
   "source": [
    "df_user_game = pd.json_normalize(json_user_game)\n",
    "df_user_game.info()"
   ]
  },
  {
   "cell_type": "markdown",
   "id": "c753a468-5013-47df-8234-d8bda2981406",
   "metadata": {},
   "source": [
    "athena-pallada can be either black or white, based on that checking the opponent of athena-pallada"
   ]
  },
  {
   "cell_type": "code",
   "execution_count": null,
   "id": "0d04ae6b-c46d-4463-832b-76abdedef673",
   "metadata": {},
   "outputs": [],
   "source": [
    "for index, row in df_user_game.iterrows():\n",
    "    if row['players.white.user.name'] == 'athena-pallada':\n",
    "       print(f\"The opponent of athena-pallada is: {row['players.black.user.name']}\")\n",
    "    else:\n",
    "        print(f\"The opponent of athena-pallada is: {row['players.white.user.name']}\")"
   ]
  },
  {
   "cell_type": "markdown",
   "id": "104f288a-ef60-42a8-8995-56006ac34165",
   "metadata": {},
   "source": [
    "<h3><b>(b,ii)</b> In all games against this user, how many times did athena-pallada win? (Provide code that answers the question in case more than just a single game is returned)</h3>"
   ]
  },
  {
   "cell_type": "code",
   "execution_count": null,
   "id": "c1ba2d46-8b70-4344-84ba-91efc84b02da",
   "metadata": {},
   "outputs": [],
   "source": [
    "user_game_url_vs_Bacio129 = \"https://lichess.org/api/games/user/athena-pallada\"\n",
    "query_params = {\n",
    "     'moves' : False,\n",
    "     'vs' : \"Bacio129\"\n",
    "}\n",
    "response_game_data_vs_Bacio129 = requests.get(user_game_url_vs_Bacio129, params = query_params, headers={\"Accept\":\"application/x-ndjson\", \"Authorization\": f'Bearer {api_token}'})"
   ]
  },
  {
   "cell_type": "code",
   "execution_count": null,
   "id": "dba7530f-f337-4c12-a42a-213c67081bd4",
   "metadata": {},
   "outputs": [],
   "source": [
    "ndjson_game_data_vs_Bacio129 = response_game_data_vs_Bacio129.content.decode().split('\\n')\n",
    "json_game_data_vs_Bacio129 = parse_ndjson(ndjson_game_data_vs_Bacio129)"
   ]
  },
  {
   "cell_type": "code",
   "execution_count": null,
   "id": "0299bab4-7c85-487f-9ef7-141f48bf5dcf",
   "metadata": {},
   "outputs": [],
   "source": [
    "df_game_data_vs_Bacio129 = pd.json_normalize(json_game_data_vs_Bacio129)\n",
    "df_game_data_vs_Bacio129.info()"
   ]
  },
  {
   "cell_type": "markdown",
   "id": "77a42327-cd65-4fe2-af92-8da0ed41a9bc",
   "metadata": {},
   "source": [
    "Since we got two games, the below method extracts the games in which athena-pallada won. It checks if athena-pallada is white or black and correspondingly the winner of that game. Referred copilot for below code."
   ]
  },
  {
   "cell_type": "code",
   "execution_count": null,
   "id": "f607b54e-0260-4c8d-87cb-6993b0d3366d",
   "metadata": {},
   "outputs": [],
   "source": [
    "wins_athena = df_game_data_vs_Bacio129[(df_game_data_vs_Bacio129['players.white.user.name'] == 'athena-pallada') \n",
    "& (df_game_data_vs_Bacio129['winner'] == 'white')].shape[0]\n",
    "\n",
    "wins_athena += df_game_data_vs_Bacio129[(df_game_data_vs_Bacio129['players.black.user.name'] == 'athena-pallada') & \n",
    "(df_game_data_vs_Bacio129['winner'] == 'black')].shape[0]\n",
    "\n",
    "print(f\"athena-pallada has won {wins_athena} games.\")"
   ]
  },
  {
   "cell_type": "markdown",
   "id": "f21a59a6-2b57-42db-9ea5-2b93f5c78900",
   "metadata": {},
   "source": [
    "<h3>Consider the top ten players in the bullet leaderboard.<br> \n",
    "<b>(i) Which player has the most bullet games overall?<br>\n",
    "(ii) Which player has played the most bullet games relative to account age in days?<br> \n",
    "(iii) Which player has the worst win-to-loss ratio over all formats?</b></h3>"
   ]
  },
  {
   "cell_type": "markdown",
   "id": "c2d19fa2-2b40-48b8-8439-ee27be6bf2e0",
   "metadata": {},
   "source": [
    "The below method fetches the performance statistics and public user data for each username in the top 10 players in bullet leaderboard. It also calcultes the required statistics and puts it a list."
   ]
  },
  {
   "cell_type": "code",
   "execution_count": null,
   "id": "27c1bb87-c6e1-4d33-a1b5-5bb6c21f2a88",
   "metadata": {},
   "outputs": [],
   "source": [
    "def fetch_stats(username):\n",
    "    response = requests.get(\"https://lichess.org/api/user/\" + username + \"/perf/bullet\")\n",
    "    player_stats = json.loads(response.text)\n",
    "\n",
    "    response = requests.get(\"https://lichess.org/api/user/\" + username)\n",
    "    public_data = json.loads(response.text)\n",
    "    \n",
    "    # Getting bullet games count\n",
    "    bullet_games = player_stats['stat']['count']['all']\n",
    "\n",
    "    #Getting account age\n",
    "    created_at_timestamp = public_data['createdAt']\n",
    "\n",
    "    # Converting the timestamp to datetime\n",
    "    created_at = datetime.fromtimestamp(created_at_timestamp / 1000)\n",
    "\n",
    "    # Calculating account age in days\n",
    "    account_age = (datetime.now() - created_at).days\n",
    "    \n",
    "    #Calculating bullet games win to account age\n",
    "    bullet_games_to_account_age = bullet_games/account_age\n",
    "    \n",
    "    win_to_loss_ratio = public_data['count']['win']/public_data['count']['loss']\n",
    "    \n",
    "    return [username, bullet_games, bullet_games_to_account_age, win_to_loss_ratio]"
   ]
  },
  {
   "cell_type": "markdown",
   "id": "44c9addc-dc6c-4334-afac-1b136aed1fd0",
   "metadata": {},
   "source": [
    "Calling each user stats from the top 10 players concurrently"
   ]
  },
  {
   "cell_type": "code",
   "execution_count": null,
   "id": "e65200c6-e54a-4736-b3f9-44ab4114a6cf",
   "metadata": {},
   "outputs": [],
   "source": [
    "response_top_10= requests.get(\"https://lichess.org/api/player/top/10/bullet\")\n",
    "top_10_players = json.loads(response_top_10.text)\n",
    "\n",
    "stats = []\n",
    "with concurrent.futures.ThreadPoolExecutor() as executor:\n",
    "    stats = list(executor.map(fetch_stats, [player['username'] for player in top_10_players['users']]))"
   ]
  },
  {
   "cell_type": "code",
   "execution_count": null,
   "id": "f30a6a8e-1fea-47bf-9d2a-c7239841adfc",
   "metadata": {},
   "outputs": [],
   "source": [
    "# Create a DataFrame from the data\n",
    "df = pd.DataFrame(stats, columns=['username', 'bullet_games', 'bullet_games_to_account_age','win_to_loss_ratio'])\n",
    "\n",
    "# Sorting each stat\n",
    "df = df.sort_values(by='bullet_games', ascending=False)\n",
    "player_most_bullet_games = df.iloc[0]['username']\n",
    "\n",
    "df = df.sort_values(by='bullet_games_to_account_age', ascending=False)\n",
    "player_most_bullet_games_to_age = df.iloc[0]['username']\n",
    "\n",
    "df = df.sort_values(by='win_to_loss_ratio', ascending = True)\n",
    "player_worst_wint_to_loss = df.iloc[0]['username']\n",
    "\n",
    "print(f\"The player with the most bullet games overall is {player_most_bullet_games}.\")\n",
    "print(f\"The player with the most bullet games relative to account age is {player_most_bullet_games_to_age}.\")\n",
    "print(f\"The player with the worst win to loss ratio is {player_worst_wint_to_loss}.\")"
   ]
  },
  {
   "cell_type": "markdown",
   "id": "2964d352-be1f-4e6b-bd72-a8bb9f52d25e",
   "metadata": {},
   "source": [
    "<h3><b>(d)</b> Get all games from user manwithavan. Group them by opening and print the ten most popular.</h3>"
   ]
  },
  {
   "cell_type": "code",
   "execution_count": null,
   "id": "c616380b-d41f-45eb-bdba-4deb00e11989",
   "metadata": {},
   "outputs": [],
   "source": [
    "url_user_game_data = \"https://lichess.org/api/games/user/manwithavan\"\n",
    "query_params = {\n",
    "     'moves' : False,\n",
    "     'opening' : True\n",
    "}\n",
    "response_activity = requests.get(url_user_game_data , params = query_params, headers={\"Accept\":\"application/x-ndjson\", \"Authorization\": f'Bearer {api_token}'})"
   ]
  },
  {
   "cell_type": "code",
   "execution_count": null,
   "id": "09d57c07-fc0b-4fa5-a1f7-1de7c99f9634",
   "metadata": {},
   "outputs": [],
   "source": [
    "ndjson_activity = response_activity.content.decode().split('\\n')\n",
    "json_activity = parse_ndjson(ndjson_activity)"
   ]
  },
  {
   "cell_type": "code",
   "execution_count": null,
   "id": "8cc659a9-4ba9-4024-af53-1312c5b4cc2f",
   "metadata": {},
   "outputs": [],
   "source": [
    "df_activity = pd.json_normalize(json_activity)\n",
    "df_activity.info()"
   ]
  },
  {
   "cell_type": "markdown",
   "id": "68bd117a-38b8-40fd-935e-7e2dfb044a60",
   "metadata": {},
   "source": [
    "Group the openings by name and printing the value counts"
   ]
  },
  {
   "cell_type": "code",
   "execution_count": null,
   "id": "0e1abff7-82c3-444e-adac-fe2d75413945",
   "metadata": {},
   "outputs": [],
   "source": [
    "df_activity['opening.name'].value_counts().head(10)"
   ]
  }
 ],
 "metadata": {
  "kernelspec": {
   "display_name": "Python 3 (ipykernel)",
   "language": "python",
   "name": "python3"
  },
  "language_info": {
   "codemirror_mode": {
    "name": "ipython",
    "version": 3
   },
   "file_extension": ".py",
   "mimetype": "text/x-python",
   "name": "python",
   "nbconvert_exporter": "python",
   "pygments_lexer": "ipython3",
   "version": "3.11.8"
  }
 },
 "nbformat": 4,
 "nbformat_minor": 5
}
