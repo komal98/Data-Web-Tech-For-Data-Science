{
 "cells": [
  {
   "cell_type": "markdown",
   "id": "4176910a-aeb3-47bf-b8b8-24bdea48f56b",
   "metadata": {},
   "source": [
    "<h1>STA 220 Assignment 3</h1>"
   ]
  },
  {
   "cell_type": "code",
   "execution_count": 1,
   "id": "f889bf4e-ac4e-4939-95a3-43f58418668f",
   "metadata": {},
   "outputs": [],
   "source": [
    "import requests\n",
    "from bs4 import BeautifulSoup\n",
    "from requests_cache import CachedSession\n",
    "import matplotlib.pyplot as plt\n",
    "import pandas as pd\n",
    "import re\n",
    "from sklearn.feature_extraction.text import TfidfVectorizer\n",
    "from sklearn.decomposition import TruncatedSVD\n",
    "import matplotlib.pyplot as plt\n",
    "import seaborn as sns"
   ]
  },
  {
   "cell_type": "markdown",
   "id": "7b6c66f0-aeb2-4536-a80e-f1a9739ad362",
   "metadata": {},
   "source": [
    "(a, i) Write a function that retrieves all links to movies in the database by scraping the alphabetical section on imsdb.com and retrieve the links. How many links did you find?"
   ]
  },
  {
   "cell_type": "code",
   "execution_count": 2,
   "id": "1b83c8f0-b618-4cb6-a7e8-d9271ee734f1",
   "metadata": {},
   "outputs": [],
   "source": [
    "base_url = \"https://imsdb.com\""
   ]
  },
  {
   "cell_type": "code",
   "execution_count": 3,
   "id": "b8cb6ea3-90ba-4156-a2cb-28f5966cc744",
   "metadata": {},
   "outputs": [],
   "source": [
    "session = CachedSession()"
   ]
  },
  {
   "cell_type": "code",
   "execution_count": 4,
   "id": "458a7e68-5f6c-4994-ba11-37748ddce82d",
   "metadata": {},
   "outputs": [],
   "source": [
    "def get_movie_links():\n",
    "    \"\"\"\n",
    "    This function fetches movie links from a base URL.\n",
    "    The base URL should be the main page of a website that lists movies alphabetically.\n",
    "    \"\"\"\n",
    "\n",
    "    # Defining the sections for alphabetical listing\n",
    "    alphabet_sections = list(\"0ABCDEFGHIJKLMNOPQRSTUVWXYZ\")\n",
    "\n",
    "    # Initializing an empty list to store all movie links\n",
    "    all_movie_links = []\n",
    "\n",
    "    # Creating a session object\n",
    "    session = requests.Session()\n",
    "\n",
    "    # Looping over each section\n",
    "    for section in alphabet_sections:\n",
    "        # Constructing the URL for the current section\n",
    "        url = f\"{base_url}/alphabetical/{section}\"\n",
    "\n",
    "        # Sending a GET request to the URL\n",
    "        response = session.get(url)\n",
    "\n",
    "        # Parsing the response content with BeautifulSoup\n",
    "        soup = BeautifulSoup(response.content, \"html.parser\")\n",
    "\n",
    "        # Finding all 'p' tags in the parsed HTML\n",
    "        p_tags = soup.find_all(\"p\")\n",
    "\n",
    "        # Looping over each 'p' tag\n",
    "        for p_tag in p_tags:\n",
    "            # Find the 'a' tag within the current 'p' tag\n",
    "            movie_link = p_tag.find(\"a\")\n",
    "\n",
    "            # Constructing the full URL for the movie\n",
    "            link = f\"{base_url}{movie_link['href']}\".replace(\" \", \"%20\")\n",
    "\n",
    "            # Appending the movie link to the list\n",
    "            all_movie_links.append(link)\n",
    "\n",
    "    # Returning the list of all movie links\n",
    "    return all_movie_links\n"
   ]
  },
  {
   "cell_type": "code",
   "execution_count": 5,
   "id": "dc515a68-1979-47d8-ab17-6ba90638ce74",
   "metadata": {},
   "outputs": [
    {
     "name": "stdout",
     "output_type": "stream",
     "text": [
      "Total number of movie links: 1218\n"
     ]
    }
   ],
   "source": [
    "# Call the function to get all movie links\n",
    "movie_links = get_movie_links()\n",
    "\n",
    "# Print the total number of movie links retrieved\n",
    "print(f\"Total number of movie links: {len(movie_links)}\")"
   ]
  },
  {
   "cell_type": "markdown",
   "id": "532caf0a-9647-4c43-8efd-ed6e2ab966d4",
   "metadata": {},
   "source": [
    "(ii) Write a function fetch_script that, given the link of a movie retrieved in (i), returns a dictionary that contains all relevant information of the movie:\n",
    "fetch_script('/Movie Scripts/10 Things I Hate About You Script.html')\n",
    "\n",
    ">>> {'title': '10 Things I Hate About You',\n",
    "     'writers': ['Karen McCullah Lutz', 'Kirsten Smith', 'William Shakespeare'],\n",
    "     'genres': ['Comedy', 'Romance'],\n",
    "     'date': 1997,\n",
    "     'script': '...'}\n",
    "\n",
    "The script field contains a string of the scraped script. Retrieve the information for all movies. How many scripts did you retrieve?"
   ]
  },
  {
   "cell_type": "code",
   "execution_count": 6,
   "id": "48fa45e8-ed68-494f-aa5b-988812c081eb",
   "metadata": {},
   "outputs": [],
   "source": [
    "def extract_siblings(tag):\n",
    "    \"\"\"\n",
    "    This function extracts the text of sibling 'a' tags of a given tag until a 'b' tag is encountered.\n",
    "    \n",
    "    Parameters:\n",
    "    tag (bs4.element.Tag): A BeautifulSoup tag object.\n",
    "\n",
    "    Returns:\n",
    "    list: A list of text from sibling 'a' tags.\n",
    "    \"\"\"\n",
    "\n",
    "    # Initializing an empty list to store the text of sibling 'a' tags\n",
    "    siblings = []\n",
    "\n",
    "    # Looping over the next siblings of the given tag\n",
    "    for sibling in tag.find_next_siblings():\n",
    "        # If the sibling is an 'a' tag, append its text to the list\n",
    "        if sibling.name == 'a':\n",
    "            siblings.append(sibling.text)\n",
    "        # If the sibling is a 'b' tag, break the loop\n",
    "        elif sibling.name == 'b':\n",
    "            break\n",
    "\n",
    "    # Return the list of text from sibling 'a' tags\n",
    "    return siblings"
   ]
  },
  {
   "cell_type": "code",
   "execution_count": 7,
   "id": "af3251e9-bf54-4f2f-9662-1f1d5f0fc810",
   "metadata": {},
   "outputs": [],
   "source": [
    "def extract_date(script_date):\n",
    "    \"\"\"\n",
    "    This function extracts the date from a given BeautifulSoup tag.\n",
    "    \n",
    "    Parameters:\n",
    "    script_date (bs4.element.Tag): A BeautifulSoup tag object.\n",
    "\n",
    "    Returns:\n",
    "    str: The extracted date as a string, or None if the tag is None.\n",
    "    \"\"\"\n",
    "\n",
    "    # Initializing the date as None\n",
    "    date = None\n",
    "\n",
    "    # If the script_date tag is not None\n",
    "    if script_date is not None:\n",
    "        # Extract the date from the next sibling of the tag,\n",
    "        # strip any leading/trailing whitespace,\n",
    "        # split the string into words,\n",
    "        # and take the last word which is the year\n",
    "        date = script_date.next_sibling.strip().split(' ')[-1]\n",
    "\n",
    "    # Return the date\n",
    "    return date\n"
   ]
  },
  {
   "cell_type": "code",
   "execution_count": 8,
   "id": "627847d0-683d-4f7c-a21e-b56e13e2cafb",
   "metadata": {},
   "outputs": [],
   "source": [
    "def extract_script(table):\n",
    "    \"\"\"\n",
    "    This function extracts the script from a given BeautifulSoup table tag.\n",
    "    \n",
    "    Parameters:\n",
    "    table (bs4.element.Tag): A BeautifulSoup tag object.\n",
    "    base_url (str): The base URL of the website.\n",
    "\n",
    "    Returns:\n",
    "    str: The extracted script as a string, or None if the script is not found.\n",
    "    \"\"\"\n",
    "\n",
    "    # Find the 'a' tag in the table that contains the word \"Script\"\n",
    "    script_link = table.find('a', string=lambda value: value and \"Script\" in value)\n",
    "\n",
    "    # If the script link is found and it ends with '.html'\n",
    "    if script_link and script_link['href'].endswith('.html'):\n",
    "        # Construct the full URL for the script\n",
    "        url = base_url + script_link['href']\n",
    "\n",
    "        # Send a GET request to the script URL\n",
    "        response = session.get(url)\n",
    "\n",
    "        # Parse the response content with BeautifulSoup\n",
    "        soup = BeautifulSoup(response.content, 'html.parser')\n",
    "\n",
    "        # Find the 'td' tag with class 'scrtext' in the parsed HTML\n",
    "        td_tag = soup.find('td', {'class': 'scrtext'})\n",
    "\n",
    "        # If the 'td' tag is found, return its text; otherwise, return None\n",
    "        return td_tag.get_text() if td_tag else None\n",
    "\n",
    "    # If the script link is not found or it does not end with '.html', return None\n",
    "    return None"
   ]
  },
  {
   "cell_type": "code",
   "execution_count": 9,
   "id": "05d8c127-78c9-4621-99fe-d0004c528b32",
   "metadata": {},
   "outputs": [],
   "source": [
    "def fetch_script(movie_link):\n",
    "    \"\"\"\n",
    "    This function fetches the script details from a given movie link.\n",
    "    \"\"\"\n",
    "\n",
    "    # Send a GET request to the movie link\n",
    "    response = session.get(movie_link)\n",
    "\n",
    "    # Parse the response content with BeautifulSoup\n",
    "    soup = BeautifulSoup(response.content, \"html.parser\")\n",
    "\n",
    "    # Find the table with class 'script-details'\n",
    "    table = soup.find('table', {'class': 'script-details'})\n",
    "\n",
    "    # Extract the title from the 'h1' tag and remove the last 6 characters\n",
    "    title = table.find('h1').string[:-6]\n",
    "\n",
    "    # Extract the writers from the sibling tags of the 'b' tag with string 'Writers'\n",
    "    writers_tag = table.find('b', string='Writers')\n",
    "    writers = extract_siblings(writers_tag)\n",
    "            \n",
    "    # Extract the genres from the sibling tags of the 'b' tag with string 'Genres'\n",
    "    genres_tag = table.find('b', string='Genres')\n",
    "    genres = extract_siblings(genres_tag)\n",
    "    \n",
    "    # Extract the script date from the sibling tag of the 'b' tag with string 'Script Date'\n",
    "    script_date = table.find('b', string='Script Date')\n",
    "    date = extract_date(script_date)\n",
    "\n",
    "    # Extract the script text\n",
    "    script_text = extract_script(table)\n",
    "\n",
    "    # Return a dictionary with the extracted details\n",
    "    return {\n",
    "        'title': title,\n",
    "        'writers': writers,\n",
    "        'genres': genres,\n",
    "        'date': date,\n",
    "        'script': script_text\n",
    "    }"
   ]
  },
  {
   "cell_type": "code",
   "execution_count": 10,
   "id": "44c3dca4-4c23-4ffc-aa58-28e8bacabe98",
   "metadata": {},
   "outputs": [
    {
     "name": "stdout",
     "output_type": "stream",
     "text": [
      "Total number of scripts retrieved: 1169\n"
     ]
    }
   ],
   "source": [
    "# Initialize an empty list to store the details of all movies\n",
    "all_movie_details = []\n",
    "\n",
    "# Initialize a counter for the number of scripts retrieved\n",
    "script_count = 0\n",
    "\n",
    "# Loop over each movie link\n",
    "for link in movie_links:\n",
    "    # Fetch the script and other details for the movie\n",
    "    movie_details = fetch_script(link)\n",
    "\n",
    "    # Append the movie details to the list\n",
    "    all_movie_details.append(movie_details)\n",
    "\n",
    "    # If a script was retrieved for the movie, increment the counter\n",
    "    if movie_details['script'] is not None:\n",
    "        script_count += 1\n",
    "\n",
    "# Print the total number of scripts retrieved\n",
    "print(f\"Total number of scripts retrieved: {script_count}\")"
   ]
  },
  {
   "cell_type": "markdown",
   "id": "acb34e05-2946-43ba-9264-27e55209ba46",
   "metadata": {},
   "source": [
    "(b) We are interested in the genres 'Musical', 'Horror', and 'Romance'. Craft a barplot displaying the absolute counts for each of these categories. In each bar, color-code the fractions of movies that are also counted in another genres."
   ]
  },
  {
   "cell_type": "code",
   "execution_count": 11,
   "id": "51753c4f-cbb6-4f4c-8451-f6957ba7808d",
   "metadata": {},
   "outputs": [
    {
     "data": {
      "image/png": "[encoded data removed]",
      "text/plain": [
       "<Figure size 640x480 with 1 Axes>"
      ]
     },
     "metadata": {},
     "output_type": "display_data"
    }
   ],
   "source": [
    "# Convert the list of dictionaries to a DataFrame\n",
    "df = pd.DataFrame(all_movie_details)\n",
    "\n",
    "# Define the genres we're interested in\n",
    "genres = ['Musical', 'Horror', 'Romance']\n",
    "\n",
    "# Initialize a dictionary to store the counts for each genre\n",
    "counts = {genre: 0 for genre in genres}\n",
    "multi_genre_counts = {genre: 0 for genre in genres}\n",
    "\n",
    "# Count the number of movies in each genre and the number of movies that are also in another genre\n",
    "for details in all_movie_details:\n",
    "    for genre in genres:\n",
    "        if genre in details['genres']:\n",
    "            counts[genre] += 1\n",
    "            if len(details['genres']) > 1:\n",
    "                multi_genre_counts[genre] += 1\n",
    "\n",
    "# Calculate the fractions of movies that are also in another genre\n",
    "fractions = {genre: multi_genre_counts[genre] / counts[genre] if counts[genre] > 0 else 0 for genre in genres}\n",
    "\n",
    "# Create the bar plot\n",
    "plt.bar(genres, [counts[genre] for genre in genres], label='Single Genre')\n",
    "plt.bar(genres, [fractions[genre] * counts[genre] for genre in genres], label='Multiple Genres')\n",
    "plt.xlabel('Genre')\n",
    "plt.ylabel('Number of Movies')\n",
    "plt.title('Number of Movies by Genre')\n",
    "plt.legend()\n",
    "plt.show()"
   ]
  },
  {
   "cell_type": "markdown",
   "id": "3521c49b-6f54-4891-aaa5-4facff6ca9a3",
   "metadata": {},
   "source": [
    "(c, i) Using only regex, write a function tokenizer that returns bigrams of all non-whitespace and non-punctuation characters, according to the test case below:\n",
    "\n",
    "test = '''\n",
    "    Neque porro quisquam est, qui dolorem ipsum quia dolor sit amet, \n",
    "    consectetur, adipisci velit, sed quia non numquam eius modi tempora \n",
    "    incidunt ut labore et dolore magnam aliquam quaerat voluptatem.\n",
    "'''\n",
    "tokenizer(test)\n",
    ">>> ['neque porro',\n",
    " 'porro quisquam',\n",
    " 'quisquam est',\n",
    " 'qui dolorem',\n",
    " 'dolorem ipsum',\n",
    " 'ipsum quia',\n",
    " 'quia dolor',\n",
    " 'dolor sit',\n",
    " 'sit amet',\n",
    " 'adipisci velit',\n",
    " 'sed quia',\n",
    " 'quia non',\n",
    " 'non numquam',\n",
    " 'numquam eius',\n",
    " 'eius modi',\n",
    " 'modi tempora',\n",
    " 'incidunt ut',\n",
    " 'ut labore',\n",
    " 'labore et',\n",
    " 'et dolore',\n",
    " 'dolore magnam',\n",
    " 'magnam aliquam',\n",
    " 'aliquam quaerat',\n",
    " 'quaerat voluptatem']\n"
   ]
  },
  {
   "cell_type": "code",
   "execution_count": 12,
   "id": "5b78eec3-985d-4026-b70f-febd0538dae1",
   "metadata": {},
   "outputs": [
    {
     "name": "stdout",
     "output_type": "stream",
     "text": [
      "['neque porro', 'porro quisquam', 'quisquam est', 'est qui', 'qui dolorem', 'dolorem ipsum', 'ipsum quia', 'quia dolor', 'dolor sit', 'sit amet', 'amet consectetur', 'consectetur adipisci', 'adipisci velit', 'velit sed', 'sed quia', 'quia non', 'non numquam', 'numquam eius', 'eius modi', 'modi tempora', 'tempora incidunt', 'incidunt ut', 'ut labore', 'labore et', 'et dolore', 'dolore magnam', 'magnam aliquam', 'aliquam quaerat', 'quaerat voluptatem']\n"
     ]
    }
   ],
   "source": [
    "def tokenizer(text):\n",
    "    \"\"\"\n",
    "    This function tokenizes the input text into bigrams.\n",
    "    \n",
    "    Parameters:\n",
    "    text (str): A string of text.\n",
    "\n",
    "    Returns:\n",
    "    list: A list of bigrams.\n",
    "    \"\"\"\n",
    "\n",
    "    # Use a regular expression to find all words in the text\n",
    "    # Convert the text to lowercase to ensure case-insensitivity\n",
    "    words = re.findall(r'\\b\\w+\\b', text.lower())\n",
    "\n",
    "    # Create bigrams from the list of words and return them\n",
    "    return [' '.join(words[i:i+2]) for i in range(len(words)-1)]\n",
    "\n",
    "# Define a test string\n",
    "test = '''\n",
    "    Neque porro quisquam est, qui dolorem ipsum quia dolor sit amet, \n",
    "    consectetur, adipisci velit, sed quia non numquam eius modi tempora \n",
    "    incidunt ut labore et dolore magnam aliquam quaerat voluptatem.\n",
    "'''\n",
    "\n",
    "# Print the bigrams of the test string\n",
    "print(tokenizer(test))\n"
   ]
  },
  {
   "cell_type": "markdown",
   "id": "c01b5ef9-bf17-490b-9fd8-1364f36597bb",
   "metadata": {},
   "source": [
    "(ii) Use the tokenizer to obtain a tf-idf vector for each movie. Perform a (non-centered) principal component analysis (sklearn.decomposition.TruncatedSVD). What fraction of variation is explained by the first principal component? "
   ]
  },
  {
   "cell_type": "code",
   "execution_count": 13,
   "id": "b443fcbf-add8-4cad-b307-4fdb8788ee49",
   "metadata": {},
   "outputs": [
    {
     "name": "stdout",
     "output_type": "stream",
     "text": [
      "  (0, 4859348)\t0.0009577082290019003\n",
      "  (0, 1084347)\t0.0009577082290019003\n",
      "  (0, 5051698)\t0.0009577082290019003\n",
      "  (0, 3966334)\t0.002939279023342966\n",
      "  (0, 1078014)\t0.004071049081388899\n",
      "  (0, 1956307)\t0.002354462624935982\n",
      "  (0, 4174554)\t0.006660141457550654\n",
      "  (0, 4332812)\t0.00638509653399637\n",
      "  (0, 5338212)\t0.00638509653399637\n",
      "  (0, 5381886)\t0.00638509653399637\n",
      "  (0, 7040)\t0.007047795504648885\n",
      "  (0, 1573548)\t0.00638509653399637\n",
      "  (0, 3465402)\t0.004595517912475102\n",
      "  (0, 1689429)\t0.0016760182798153205\n",
      "  (0, 5373629)\t0.005121402099139645\n",
      "  (0, 3758307)\t0.006660141457550654\n",
      "  (0, 1987182)\t0.007047795504648885\n",
      "  (0, 314330)\t0.0031493740111206243\n",
      "  (0, 1186586)\t0.003734300651386313\n",
      "  (0, 5179479)\t0.004050035652687027\n",
      "  (0, 1977588)\t0.005001737057824397\n",
      "  (0, 3610823)\t0.007047795504648885\n",
      "  (0, 2353155)\t0.005001737057824397\n",
      "  (0, 639414)\t0.007047795504648885\n",
      "  (0, 471471)\t0.007047795504648885\n",
      "  :\t:\n",
      "  (1168, 5220979)\t0.0026149632246522505\n",
      "  (1168, 4858821)\t0.0009391246324458215\n",
      "  (1168, 3482444)\t0.0041821027380271455\n",
      "  (1168, 437848)\t0.009542557200327916\n",
      "  (1168, 5197111)\t0.0015607947630341696\n",
      "  (1168, 438528)\t0.0020944721982712185\n",
      "  (1168, 2240964)\t0.0009890917301551881\n",
      "  (1168, 3349585)\t0.005066121566196012\n",
      "  (1168, 1032082)\t0.0017519902338392582\n",
      "  (1168, 437021)\t0.006766438390435065\n",
      "  (1168, 302774)\t0.007823994548234585\n",
      "  (1168, 2412137)\t0.014814847839418683\n",
      "  (1168, 4853042)\t0.01949322084134037\n",
      "  (1168, 3529238)\t0.002730507189477116\n",
      "  (1168, 4719672)\t0.001164227990329339\n",
      "  (1168, 1839380)\t0.010127814121828485\n",
      "  (1168, 1673860)\t0.0032223751919609822\n",
      "  (1168, 3361007)\t0.001969458103687385\n",
      "  (1168, 3467959)\t0.017933763174033144\n",
      "  (1168, 328407)\t0.01014514306137248\n",
      "  (1168, 2412553)\t0.0008619514211029327\n",
      "  (1168, 5196497)\t0.0029477845177377036\n",
      "  (1168, 3360994)\t0.030409424512490978\n",
      "  (1168, 5339613)\t0.0012675601994383409\n",
      "  (1168, 173263)\t0.0009692251828519033\n"
     ]
    }
   ],
   "source": [
    "# Extract scripts from all_movie_details where script is not None\n",
    "scripts = [movie['script'] for movie in all_movie_details if movie['script'] is not None]\n",
    "\n",
    "# Initialize a TfidfVectorizer with the custom tokenizer function\n",
    "# The token_pattern=None is used because we are providing a custom tokenizer\n",
    "vectorizer = TfidfVectorizer(tokenizer=tokenizer, token_pattern=None)\n",
    "\n",
    "# Fit the vectorizer to the scripts and transform the scripts into tf-idf vectors\n",
    "tfidf_matrix = vectorizer.fit_transform(scripts)\n",
    "\n",
    "# Print the tf-idf matrix\n",
    "print(tfidf_matrix)\n"
   ]
  },
  {
   "cell_type": "code",
   "execution_count": 14,
   "id": "a0105eaa-dc71-441b-bedd-db7b0ba654b6",
   "metadata": {},
   "outputs": [
    {
     "name": "stdout",
     "output_type": "stream",
     "text": [
      "Fraction of variation explained by the first principal component: 0.004905398903747563\n"
     ]
    }
   ],
   "source": [
    "# Perform PCA\n",
    "svd = TruncatedSVD(n_components=1)\n",
    "principal_components = svd.fit_transform(tfidf_matrix)\n",
    "\n",
    "# The fraction of variation explained by the first principal component\n",
    "print(f\"Fraction of variation explained by the first principal component: {svd.explained_variance_ratio_[0]}\")\n"
   ]
  },
  {
   "cell_type": "markdown",
   "id": "33186ee0-c0d4-4dec-ac32-615c6b0406c1",
   "metadata": {},
   "source": [
    "(iii) Generate a strip-plot for the first principal components versus all three genres."
   ]
  },
  {
   "cell_type": "code",
   "execution_count": 15,
   "id": "46ae717c-8de8-4ad4-aaa2-2e74d336f7b6",
   "metadata": {},
   "outputs": [
    {
     "data": {
      "image/png": "[encoded data removed]",
      "text/plain": [
       "<Figure size 1000x600 with 1 Axes>"
      ]
     },
     "metadata": {},
     "output_type": "display_data"
    }
   ],
   "source": [
    "# Add the principal components to the corresponding movie dictionaries\n",
    "for movie, pc in zip(all_movie_details, principal_components):\n",
    "    # Only add the principal component if the script is not None\n",
    "    if movie['script'] is not None:\n",
    "        movie['principal_component'] = pc[0]\n",
    "\n",
    "# Extract the principal components from each movie dictionary\n",
    "# If a movie does not have a 'principal_component' key, default to None\n",
    "principal_components = [movie.get('principal_component', None) for movie in all_movie_details]\n",
    "\n",
    "# Define the genres of interest\n",
    "genres = ['Musical', 'Horror', 'Romance']\n",
    "\n",
    "# Initialize an empty list to store the data\n",
    "data = []\n",
    "\n",
    "# Loop over each movie and its principal component\n",
    "for movie, pc in zip(all_movie_details, principal_components):\n",
    "    # Only proceed if the principal component is not None\n",
    "    if pc is not None:\n",
    "        # Loop over each genre in the movie's genres\n",
    "        for genre in movie['genres']:\n",
    "            # Only proceed if the genre is one of the genres of interest\n",
    "            if genre in genres:\n",
    "                # Append a dictionary with the genre and principal component to the data list\n",
    "                data.append({'Genre': genre, 'Principal Component': pc})\n",
    "\n",
    "# Convert the data into a DataFrame\n",
    "df = pd.DataFrame(data)\n",
    "\n",
    "# Create a strip plot of the principal component by genre\n",
    "plt.figure(figsize=(10, 6))\n",
    "sns.stripplot(x='Genre', y='Principal Component', data=df, jitter=True)\n",
    "plt.title('First Principal Component vs Genre')\n",
    "plt.show()\n"
   ]
  },
  {
   "cell_type": "markdown",
   "id": "2bfec067-41d5-405e-bdfd-e0468385f363",
   "metadata": {},
   "source": [
    "Does visualization indicate that a good classification could result from this approach?"
   ]
  },
  {
   "cell_type": "markdown",
   "id": "3287955a-d133-4905-8a63-7a5f7026beb1",
   "metadata": {},
   "source": [
    "The visualization indicates that a good classification could result from this approach.\n",
    "The principal component values for different genres are well-separated and form distinct clusters, it indicates that the first principal component is capturing some underlying patterns in the data that are specific to each genre. This is beneficial because it means that this component can be used as a feature to distinguish between these genres. \n",
    "The first principal component is providing information that helps to differentiate ‘Musical’, ‘Horror’, and ‘Romance’ movies based on their scripts. "
   ]
  }
 ],
 "metadata": {
  "kernelspec": {
   "display_name": "Python 3 (ipykernel)",
   "language": "python",
   "name": "python3"
  },
  "language_info": {
   "codemirror_mode": {
    "name": "ipython",
    "version": 3
   },
   "file_extension": ".py",
   "mimetype": "text/x-python",
   "name": "python",
   "nbconvert_exporter": "python",
   "pygments_lexer": "ipython3",
   "version": "3.11.8"
  }
 },
 "nbformat": 4,
 "nbformat_minor": 5
}
